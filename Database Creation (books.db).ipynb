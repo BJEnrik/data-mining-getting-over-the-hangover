{
 "cells": [
  {
   "cell_type": "markdown",
   "id": "6ce88d3b",
   "metadata": {},
   "source": [
    "# Libraries"
   ]
  },
  {
   "cell_type": "code",
   "execution_count": 3,
   "id": "53d9ca0a",
   "metadata": {
    "ExecuteTime": {
     "end_time": "2022-11-20T16:14:46.198498Z",
     "start_time": "2022-11-20T16:14:46.190433Z"
    }
   },
   "outputs": [],
   "source": [
    "import numpy as np\n",
    "import pandas as pd\n",
    "import time\n",
    "\n",
    "import requests\n",
    "from bs4 import BeautifulSoup\n",
    "\n",
    "import sqlite3\n",
    "from sqlalchemy import create_engine"
   ]
  },
  {
   "cell_type": "markdown",
   "id": "b85f1995",
   "metadata": {},
   "source": [
    "# Functions"
   ]
  },
  {
   "cell_type": "code",
   "execution_count": 23,
   "id": "a44cb41f",
   "metadata": {
    "ExecuteTime": {
     "end_time": "2022-11-20T16:25:55.275927Z",
     "start_time": "2022-11-20T16:25:55.250489Z"
    }
   },
   "outputs": [],
   "source": [
    "def extract_books(api_key, sleep):\n",
    "    book_list = []\n",
    "\n",
    "    payload = {'api-key': api_key,\n",
    "               'offset': ''}\n",
    "    url = 'https://api.nytimes.com/svc/books/v3/lists/best-sellers/history.json'\n",
    "    resp_num = requests.get(url, params=payload).json()\n",
    "    num_results = resp_num.get('num_results')\n",
    "    offset_list = range(20, num_results - (num_results%20), 20)\n",
    "    time.sleep(sleep)\n",
    "    for offset_index in offset_list:\n",
    "        resp = requests.get(url, params=payload).json()\n",
    "        book_list.extend(resp.get('results'))\n",
    "        payload.update({'offset': offset_index})\n",
    "        time.sleep(sleep)\n",
    "        \n",
    "    return book_list\n",
    "\n",
    "def flatten(books):\n",
    "    for i in range(len(books)):\n",
    "        if books[i].get('isbns') == []:\n",
    "            books[i].update(books[i].get('isbns'))\n",
    "        else:\n",
    "            books[i].update(books[i].get('isbns')[0])\n",
    "        if books[i].get('ranks_history') == []:\n",
    "            books[i].update(books[i].get('ranks_history'))\n",
    "        else:\n",
    "            books[i].update(books[i].get('ranks_history')[0])\n",
    "        books[i].update(books[i].get('reviews')[0])\n",
    "        del books[i]['isbns']\n",
    "        del books[i]['ranks_history']\n",
    "        del books[i]['reviews']\n",
    "        \n",
    "    return books\n",
    "\n",
    "def create_db(database):\n",
    "    conn = sqlite3.connect(f'/mnt/processed/private/msds2023/lt9/{database}')\n",
    "    gen_df.to_sql(name='gen_df', con=conn, if_exists='replace', index=False)\n",
    "    conn.close()\n",
    "    return None"
   ]
  },
  {
   "cell_type": "markdown",
   "id": "290ae489",
   "metadata": {},
   "source": [
    "# API CALLS"
   ]
  },
  {
   "cell_type": "code",
   "execution_count": 210,
   "id": "d7c2be7d",
   "metadata": {
    "ExecuteTime": {
     "end_time": "2022-11-12T23:09:59.919051Z",
     "start_time": "2022-11-12T19:32:19.801133Z"
    }
   },
   "outputs": [],
   "source": [
    "books = extract_books('m4KI3c95jMS0rloPbGNGtCiREBAv8Hi0', 6)"
   ]
  },
  {
   "cell_type": "code",
   "execution_count": 217,
   "id": "ea8f396e",
   "metadata": {
    "ExecuteTime": {
     "end_time": "2022-11-13T03:21:29.840848Z",
     "start_time": "2022-11-13T03:21:29.805658Z"
    }
   },
   "outputs": [],
   "source": [
    "nyt_books = books.copy()"
   ]
  },
  {
   "cell_type": "markdown",
   "id": "651ea396",
   "metadata": {},
   "source": [
    "# Table Creation"
   ]
  },
  {
   "cell_type": "code",
   "execution_count": 218,
   "id": "cd7f4fd8",
   "metadata": {
    "ExecuteTime": {
     "end_time": "2022-11-13T03:22:00.434871Z",
     "start_time": "2022-11-13T03:22:00.018042Z"
    }
   },
   "outputs": [],
   "source": [
    "book_table = flatten(nyt_books)\n",
    "df_books = pd.DataFrame(book_table)"
   ]
  },
  {
   "cell_type": "markdown",
   "id": "b66462f0",
   "metadata": {},
   "source": [
    "# SQLite Database Creation"
   ]
  },
  {
   "cell_type": "code",
   "execution_count": 224,
   "id": "acf0bd48",
   "metadata": {
    "ExecuteTime": {
     "end_time": "2022-11-13T03:23:44.594526Z",
     "start_time": "2022-11-13T03:23:43.813067Z"
    }
   },
   "outputs": [],
   "source": [
    "create_db('books.db')"
   ]
  },
  {
   "cell_type": "code",
   "execution_count": 225,
   "id": "d975b79d",
   "metadata": {
    "ExecuteTime": {
     "end_time": "2022-11-13T03:23:58.709060Z",
     "start_time": "2022-11-13T03:23:57.657947Z"
    }
   },
   "outputs": [
    {
     "name": "stdout",
     "output_type": "stream",
     "text": [
      "books.db  lfb.db\r\n"
     ]
    }
   ],
   "source": [
    "!ls /mnt/processed/private/msds2023/lt9"
   ]
  },
  {
   "cell_type": "markdown",
   "id": "a0a292ef",
   "metadata": {},
   "source": [
    "# Additional Tables"
   ]
  },
  {
   "cell_type": "code",
   "execution_count": 8,
   "id": "e08d2162",
   "metadata": {
    "ExecuteTime": {
     "end_time": "2022-11-20T16:18:13.637068Z",
     "start_time": "2022-11-20T16:18:13.627168Z"
    }
   },
   "outputs": [],
   "source": [
    "dates = pd.date_range(start='2008/1/1', end='10/31/2022')"
   ]
  },
  {
   "cell_type": "code",
   "execution_count": 9,
   "id": "9ed3fa97",
   "metadata": {
    "ExecuteTime": {
     "end_time": "2022-11-20T16:18:14.308300Z",
     "start_time": "2022-11-20T16:18:14.280672Z"
    },
    "scrolled": true
   },
   "outputs": [],
   "source": [
    "dates_df = pd.DataFrame()\n",
    "dates_df['dates'] = dates\n",
    "dates_df['day_of_week'] = dates_df['dates'].dt.day_name()\n",
    "dates_df = dates_df.loc[dates_df['day_of_week'] == 'Sunday']\n",
    "sunday_list = dates_df['dates'].astype(str).tolist()"
   ]
  },
  {
   "cell_type": "code",
   "execution_count": 10,
   "id": "0b01835f",
   "metadata": {
    "ExecuteTime": {
     "end_time": "2022-11-20T16:18:16.389606Z",
     "start_time": "2022-11-20T16:18:16.378309Z"
    }
   },
   "outputs": [],
   "source": [
    "api_key = 'm4KI3c95jMS0rloPbGNGtCiREBAv8Hi0'\n",
    "week_str = '2022-10-30'\n",
    "def extract_overview(api_key, sleep, date_list):\n",
    "    book_list = []\n",
    "    for week_str in date_list:\n",
    "        payload = {'api-key': api_key,\n",
    "                   'published_date': week_str}\n",
    "        url = 'https://api.nytimes.com/svc/books/v3/lists/overview.json'\n",
    "        resp = requests.get(url, params=payload).json()\n",
    "        book_list.append(resp.get('results'))\n",
    "        time.sleep(sleep)\n",
    "    return book_list"
   ]
  },
  {
   "cell_type": "code",
   "execution_count": 192,
   "id": "00119afb",
   "metadata": {
    "ExecuteTime": {
     "end_time": "2022-11-20T15:18:42.766872Z",
     "start_time": "2022-11-20T13:41:32.335784Z"
    }
   },
   "outputs": [],
   "source": [
    "list_of_books = extract_overview('m4KI3c95jMS0rloPbGNGtCiREBAv8Hi0', 6, sunday_list)"
   ]
  },
  {
   "cell_type": "code",
   "execution_count": 214,
   "id": "df900754",
   "metadata": {
    "ExecuteTime": {
     "end_time": "2022-11-20T15:31:36.481546Z",
     "start_time": "2022-11-20T15:31:36.472739Z"
    }
   },
   "outputs": [],
   "source": [
    "books_with_url = list_of_books.copy()\n",
    "books_with_url = books_with_url[22:]"
   ]
  },
  {
   "cell_type": "code",
   "execution_count": 222,
   "id": "4cf72d4d",
   "metadata": {
    "ExecuteTime": {
     "end_time": "2022-11-20T15:35:16.863706Z",
     "start_time": "2022-11-20T15:35:14.854105Z"
    }
   },
   "outputs": [],
   "source": [
    "df_1 = pd.DataFrame()\n",
    "for i in books_with_url:\n",
    "    df_0 = pd.DataFrame(i['lists'])\n",
    "    df_1 = pd.concat([df_1, df_0])"
   ]
  },
  {
   "cell_type": "code",
   "execution_count": 279,
   "id": "eb40a57d",
   "metadata": {
    "ExecuteTime": {
     "end_time": "2022-11-20T15:57:52.609391Z",
     "start_time": "2022-11-20T15:51:32.729596Z"
    }
   },
   "outputs": [],
   "source": [
    "books_list = df_1[['list_id', 'books']].copy()\n",
    "new_dict = list(zip(books_list['list_id'], books_list['books']))\n",
    "gen_df = pd.DataFrame()\n",
    "for k, v in new_dict:\n",
    "    df = pd.DataFrame(v)\n",
    "    df['list_id'] = k\n",
    "    gen_df = pd.concat([gen_df, df])"
   ]
  },
  {
   "cell_type": "code",
   "execution_count": 289,
   "id": "0fe7fe65",
   "metadata": {
    "ExecuteTime": {
     "end_time": "2022-11-20T16:04:22.986695Z",
     "start_time": "2022-11-20T16:04:22.877004Z"
    }
   },
   "outputs": [],
   "source": [
    "gen_df = gen_df.drop('buy_links', axis=1)"
   ]
  },
  {
   "cell_type": "code",
   "execution_count": 24,
   "id": "c6029ea6",
   "metadata": {
    "ExecuteTime": {
     "end_time": "2022-11-20T16:27:43.181193Z",
     "start_time": "2022-11-20T16:27:40.546347Z"
    }
   },
   "outputs": [],
   "source": [
    "create_db('nytbooks.db')"
   ]
  },
  {
   "cell_type": "code",
   "execution_count": 25,
   "id": "242f0da1",
   "metadata": {
    "ExecuteTime": {
     "end_time": "2022-11-20T16:27:53.573659Z",
     "start_time": "2022-11-20T16:27:52.505615Z"
    }
   },
   "outputs": [
    {
     "name": "stdout",
     "output_type": "stream",
     "text": [
      "books.db  fide.db  lfb.db  nytbooks.db\r\n"
     ]
    }
   ],
   "source": [
    "!ls /mnt/processed/private/msds2023/lt9"
   ]
  },
  {
   "cell_type": "code",
   "execution_count": 7,
   "id": "de61737c",
   "metadata": {
    "ExecuteTime": {
     "end_time": "2023-03-11T07:59:46.528521Z",
     "start_time": "2023-03-11T07:59:45.866202Z"
    }
   },
   "outputs": [
    {
     "name": "stdout",
     "output_type": "stream",
     "text": [
      "cali_traffic_coll.zip  switrs.sqlite\r\n"
     ]
    }
   ],
   "source": [
    "!ls /mnt/processed/private/msds2023/lt7"
   ]
  },
  {
   "cell_type": "code",
   "execution_count": null,
   "id": "56d8d9ba",
   "metadata": {},
   "outputs": [],
   "source": []
  }
 ],
 "metadata": {
  "kernelspec": {
   "display_name": "Python 3 (ipykernel)",
   "language": "python",
   "name": "python3"
  },
  "language_info": {
   "codemirror_mode": {
    "name": "ipython",
    "version": 3
   },
   "file_extension": ".py",
   "mimetype": "text/x-python",
   "name": "python",
   "nbconvert_exporter": "python",
   "pygments_lexer": "ipython3",
   "version": "3.10.12"
  },
  "toc": {
   "base_numbering": 1,
   "nav_menu": {},
   "number_sections": true,
   "sideBar": true,
   "skip_h1_title": false,
   "title_cell": "Table of Contents",
   "title_sidebar": "Contents",
   "toc_cell": false,
   "toc_position": {},
   "toc_section_display": true,
   "toc_window_display": false
  }
 },
 "nbformat": 4,
 "nbformat_minor": 5
}
